{
 "cells": [
  {
   "cell_type": "code",
   "execution_count": 1,
   "id": "c967f2f9",
   "metadata": {},
   "outputs": [],
   "source": [
    "import pandas as pd\n",
    "import numpy as np\n",
    "import os\n",
    "import matplotlib.pyplot as plt\n",
    "import seaborn as sns\n",
    "os.chdir(r\"C:\\Users\\JAYANT\\Desktop\\python_240624\\Finger_tips_project\\Project6_titanic_survival\")"
   ]
  },
  {
   "cell_type": "code",
   "execution_count": 2,
   "id": "06ad62da",
   "metadata": {},
   "outputs": [
    {
     "data": {
      "text/plain": [
       "'C:\\\\Users\\\\JAYANT\\\\Desktop\\\\python_240624\\\\Finger_tips_project\\\\Project6_titanic_survival'"
      ]
     },
     "execution_count": 2,
     "metadata": {},
     "output_type": "execute_result"
    }
   ],
   "source": [
    "pwd"
   ]
  },
  {
   "cell_type": "code",
   "execution_count": 3,
   "id": "77728900",
   "metadata": {},
   "outputs": [],
   "source": [
    "import warnings\n",
    "warnings.filterwarnings(\"ignore\")\n",
    "pd.set_option(\"display.float_format\", lambda x: \"% .3f\"%x)"
   ]
  },
  {
   "cell_type": "code",
   "execution_count": 4,
   "id": "7f21debf",
   "metadata": {},
   "outputs": [
    {
     "data": {
      "text/html": [
       "<div>\n",
       "<style scoped>\n",
       "    .dataframe tbody tr th:only-of-type {\n",
       "        vertical-align: middle;\n",
       "    }\n",
       "\n",
       "    .dataframe tbody tr th {\n",
       "        vertical-align: top;\n",
       "    }\n",
       "\n",
       "    .dataframe thead th {\n",
       "        text-align: right;\n",
       "    }\n",
       "</style>\n",
       "<table border=\"1\" class=\"dataframe\">\n",
       "  <thead>\n",
       "    <tr style=\"text-align: right;\">\n",
       "      <th></th>\n",
       "      <th>PassengerId</th>\n",
       "      <th>Survived</th>\n",
       "      <th>Pclass</th>\n",
       "      <th>Name</th>\n",
       "      <th>Sex</th>\n",
       "      <th>Age</th>\n",
       "      <th>SibSp</th>\n",
       "      <th>Parch</th>\n",
       "      <th>Ticket</th>\n",
       "      <th>Fare</th>\n",
       "      <th>Cabin</th>\n",
       "      <th>Embarked</th>\n",
       "    </tr>\n",
       "  </thead>\n",
       "  <tbody>\n",
       "    <tr>\n",
       "      <th>0</th>\n",
       "      <td>1</td>\n",
       "      <td>0</td>\n",
       "      <td>3</td>\n",
       "      <td>Braund, Mr. Owen Harris</td>\n",
       "      <td>male</td>\n",
       "      <td>22.000</td>\n",
       "      <td>1</td>\n",
       "      <td>0</td>\n",
       "      <td>A/5 21171</td>\n",
       "      <td>7.250</td>\n",
       "      <td>NaN</td>\n",
       "      <td>S</td>\n",
       "    </tr>\n",
       "    <tr>\n",
       "      <th>1</th>\n",
       "      <td>2</td>\n",
       "      <td>1</td>\n",
       "      <td>1</td>\n",
       "      <td>Cumings, Mrs. John Bradley (Florence Briggs Th...</td>\n",
       "      <td>female</td>\n",
       "      <td>38.000</td>\n",
       "      <td>1</td>\n",
       "      <td>0</td>\n",
       "      <td>PC 17599</td>\n",
       "      <td>71.283</td>\n",
       "      <td>C85</td>\n",
       "      <td>C</td>\n",
       "    </tr>\n",
       "    <tr>\n",
       "      <th>2</th>\n",
       "      <td>3</td>\n",
       "      <td>1</td>\n",
       "      <td>3</td>\n",
       "      <td>Heikkinen, Miss. Laina</td>\n",
       "      <td>female</td>\n",
       "      <td>26.000</td>\n",
       "      <td>0</td>\n",
       "      <td>0</td>\n",
       "      <td>STON/O2. 3101282</td>\n",
       "      <td>7.925</td>\n",
       "      <td>NaN</td>\n",
       "      <td>S</td>\n",
       "    </tr>\n",
       "    <tr>\n",
       "      <th>3</th>\n",
       "      <td>4</td>\n",
       "      <td>1</td>\n",
       "      <td>1</td>\n",
       "      <td>Futrelle, Mrs. Jacques Heath (Lily May Peel)</td>\n",
       "      <td>female</td>\n",
       "      <td>35.000</td>\n",
       "      <td>1</td>\n",
       "      <td>0</td>\n",
       "      <td>113803</td>\n",
       "      <td>53.100</td>\n",
       "      <td>C123</td>\n",
       "      <td>S</td>\n",
       "    </tr>\n",
       "    <tr>\n",
       "      <th>4</th>\n",
       "      <td>5</td>\n",
       "      <td>0</td>\n",
       "      <td>3</td>\n",
       "      <td>Allen, Mr. William Henry</td>\n",
       "      <td>male</td>\n",
       "      <td>35.000</td>\n",
       "      <td>0</td>\n",
       "      <td>0</td>\n",
       "      <td>373450</td>\n",
       "      <td>8.050</td>\n",
       "      <td>NaN</td>\n",
       "      <td>S</td>\n",
       "    </tr>\n",
       "  </tbody>\n",
       "</table>\n",
       "</div>"
      ],
      "text/plain": [
       "   PassengerId  Survived  Pclass  \\\n",
       "0            1         0       3   \n",
       "1            2         1       1   \n",
       "2            3         1       3   \n",
       "3            4         1       1   \n",
       "4            5         0       3   \n",
       "\n",
       "                                                Name     Sex     Age  SibSp  \\\n",
       "0                            Braund, Mr. Owen Harris    male  22.000      1   \n",
       "1  Cumings, Mrs. John Bradley (Florence Briggs Th...  female  38.000      1   \n",
       "2                             Heikkinen, Miss. Laina  female  26.000      0   \n",
       "3       Futrelle, Mrs. Jacques Heath (Lily May Peel)  female  35.000      1   \n",
       "4                           Allen, Mr. William Henry    male  35.000      0   \n",
       "\n",
       "   Parch            Ticket    Fare Cabin Embarked  \n",
       "0      0         A/5 21171   7.250   NaN        S  \n",
       "1      0          PC 17599  71.283   C85        C  \n",
       "2      0  STON/O2. 3101282   7.925   NaN        S  \n",
       "3      0            113803  53.100  C123        S  \n",
       "4      0            373450   8.050   NaN        S  "
      ]
     },
     "execution_count": 4,
     "metadata": {},
     "output_type": "execute_result"
    }
   ],
   "source": [
    "data=pd.read_csv(r\"ML Project - Logistic Regression Titanic Survival U16955478860.csv\")\n",
    "data.head()"
   ]
  },
  {
   "cell_type": "code",
   "execution_count": 5,
   "id": "4d14f9ef",
   "metadata": {},
   "outputs": [
    {
     "name": "stdout",
     "output_type": "stream",
     "text": [
      "<class 'pandas.core.frame.DataFrame'>\n",
      "RangeIndex: 891 entries, 0 to 890\n",
      "Data columns (total 12 columns):\n",
      " #   Column       Non-Null Count  Dtype  \n",
      "---  ------       --------------  -----  \n",
      " 0   PassengerId  891 non-null    int64  \n",
      " 1   Survived     891 non-null    int64  \n",
      " 2   Pclass       891 non-null    int64  \n",
      " 3   Name         891 non-null    object \n",
      " 4   Sex          891 non-null    object \n",
      " 5   Age          714 non-null    float64\n",
      " 6   SibSp        891 non-null    int64  \n",
      " 7   Parch        891 non-null    int64  \n",
      " 8   Ticket       891 non-null    object \n",
      " 9   Fare         891 non-null    float64\n",
      " 10  Cabin        204 non-null    object \n",
      " 11  Embarked     889 non-null    object \n",
      "dtypes: float64(2), int64(5), object(5)\n",
      "memory usage: 83.7+ KB\n"
     ]
    }
   ],
   "source": [
    "data.info()"
   ]
  },
  {
   "cell_type": "code",
   "execution_count": 6,
   "id": "74709686",
   "metadata": {},
   "outputs": [
    {
     "data": {
      "text/plain": [
       "PassengerId     0.000\n",
       "Survived        0.000\n",
       "Pclass          0.000\n",
       "Name            0.000\n",
       "Sex             0.000\n",
       "Age            19.865\n",
       "SibSp           0.000\n",
       "Parch           0.000\n",
       "Ticket          0.000\n",
       "Fare            0.000\n",
       "Cabin          77.104\n",
       "Embarked        0.224\n",
       "dtype: float64"
      ]
     },
     "execution_count": 6,
     "metadata": {},
     "output_type": "execute_result"
    }
   ],
   "source": [
    "(data.isnull().sum()/len(data))*100"
   ]
  },
  {
   "cell_type": "code",
   "execution_count": 7,
   "id": "be6dd026",
   "metadata": {},
   "outputs": [],
   "source": [
    "num_col=data.select_dtypes(exclude=\"object\")\n",
    "cat_col=data.select_dtypes(include=\"object\")"
   ]
  },
  {
   "cell_type": "code",
   "execution_count": 24,
   "id": "bc400a0d",
   "metadata": {},
   "outputs": [
    {
     "data": {
      "text/html": [
       "<div>\n",
       "<style scoped>\n",
       "    .dataframe tbody tr th:only-of-type {\n",
       "        vertical-align: middle;\n",
       "    }\n",
       "\n",
       "    .dataframe tbody tr th {\n",
       "        vertical-align: top;\n",
       "    }\n",
       "\n",
       "    .dataframe thead th {\n",
       "        text-align: right;\n",
       "    }\n",
       "</style>\n",
       "<table border=\"1\" class=\"dataframe\">\n",
       "  <thead>\n",
       "    <tr style=\"text-align: right;\">\n",
       "      <th></th>\n",
       "      <th>PassengerId</th>\n",
       "      <th>Survived</th>\n",
       "      <th>Pclass</th>\n",
       "      <th>Age</th>\n",
       "      <th>SibSp</th>\n",
       "      <th>Parch</th>\n",
       "      <th>Fare</th>\n",
       "    </tr>\n",
       "  </thead>\n",
       "  <tbody>\n",
       "    <tr>\n",
       "      <th>0</th>\n",
       "      <td>1</td>\n",
       "      <td>0</td>\n",
       "      <td>3</td>\n",
       "      <td>22.000</td>\n",
       "      <td>1</td>\n",
       "      <td>0</td>\n",
       "      <td>7.250</td>\n",
       "    </tr>\n",
       "    <tr>\n",
       "      <th>1</th>\n",
       "      <td>2</td>\n",
       "      <td>1</td>\n",
       "      <td>1</td>\n",
       "      <td>38.000</td>\n",
       "      <td>1</td>\n",
       "      <td>0</td>\n",
       "      <td>71.283</td>\n",
       "    </tr>\n",
       "    <tr>\n",
       "      <th>2</th>\n",
       "      <td>3</td>\n",
       "      <td>1</td>\n",
       "      <td>3</td>\n",
       "      <td>26.000</td>\n",
       "      <td>0</td>\n",
       "      <td>0</td>\n",
       "      <td>7.925</td>\n",
       "    </tr>\n",
       "    <tr>\n",
       "      <th>3</th>\n",
       "      <td>4</td>\n",
       "      <td>1</td>\n",
       "      <td>1</td>\n",
       "      <td>35.000</td>\n",
       "      <td>1</td>\n",
       "      <td>0</td>\n",
       "      <td>53.100</td>\n",
       "    </tr>\n",
       "    <tr>\n",
       "      <th>4</th>\n",
       "      <td>5</td>\n",
       "      <td>0</td>\n",
       "      <td>3</td>\n",
       "      <td>35.000</td>\n",
       "      <td>0</td>\n",
       "      <td>0</td>\n",
       "      <td>8.050</td>\n",
       "    </tr>\n",
       "    <tr>\n",
       "      <th>...</th>\n",
       "      <td>...</td>\n",
       "      <td>...</td>\n",
       "      <td>...</td>\n",
       "      <td>...</td>\n",
       "      <td>...</td>\n",
       "      <td>...</td>\n",
       "      <td>...</td>\n",
       "    </tr>\n",
       "    <tr>\n",
       "      <th>886</th>\n",
       "      <td>887</td>\n",
       "      <td>0</td>\n",
       "      <td>2</td>\n",
       "      <td>27.000</td>\n",
       "      <td>0</td>\n",
       "      <td>0</td>\n",
       "      <td>13.000</td>\n",
       "    </tr>\n",
       "    <tr>\n",
       "      <th>887</th>\n",
       "      <td>888</td>\n",
       "      <td>1</td>\n",
       "      <td>1</td>\n",
       "      <td>19.000</td>\n",
       "      <td>0</td>\n",
       "      <td>0</td>\n",
       "      <td>30.000</td>\n",
       "    </tr>\n",
       "    <tr>\n",
       "      <th>888</th>\n",
       "      <td>889</td>\n",
       "      <td>0</td>\n",
       "      <td>3</td>\n",
       "      <td>NaN</td>\n",
       "      <td>1</td>\n",
       "      <td>2</td>\n",
       "      <td>23.450</td>\n",
       "    </tr>\n",
       "    <tr>\n",
       "      <th>889</th>\n",
       "      <td>890</td>\n",
       "      <td>1</td>\n",
       "      <td>1</td>\n",
       "      <td>26.000</td>\n",
       "      <td>0</td>\n",
       "      <td>0</td>\n",
       "      <td>30.000</td>\n",
       "    </tr>\n",
       "    <tr>\n",
       "      <th>890</th>\n",
       "      <td>891</td>\n",
       "      <td>0</td>\n",
       "      <td>3</td>\n",
       "      <td>32.000</td>\n",
       "      <td>0</td>\n",
       "      <td>0</td>\n",
       "      <td>7.750</td>\n",
       "    </tr>\n",
       "  </tbody>\n",
       "</table>\n",
       "<p>891 rows × 7 columns</p>\n",
       "</div>"
      ],
      "text/plain": [
       "     PassengerId  Survived  Pclass     Age  SibSp  Parch    Fare\n",
       "0              1         0       3  22.000      1      0   7.250\n",
       "1              2         1       1  38.000      1      0  71.283\n",
       "2              3         1       3  26.000      0      0   7.925\n",
       "3              4         1       1  35.000      1      0  53.100\n",
       "4              5         0       3  35.000      0      0   8.050\n",
       "..           ...       ...     ...     ...    ...    ...     ...\n",
       "886          887         0       2  27.000      0      0  13.000\n",
       "887          888         1       1  19.000      0      0  30.000\n",
       "888          889         0       3     NaN      1      2  23.450\n",
       "889          890         1       1  26.000      0      0  30.000\n",
       "890          891         0       3  32.000      0      0   7.750\n",
       "\n",
       "[891 rows x 7 columns]"
      ]
     },
     "execution_count": 24,
     "metadata": {},
     "output_type": "execute_result"
    }
   ],
   "source": [
    "num_col"
   ]
  },
  {
   "cell_type": "code",
   "execution_count": 24,
   "id": "6b4bc631",
   "metadata": {},
   "outputs": [
    {
     "data": {
      "text/plain": [
       "PassengerId    0.000\n",
       "Survived       0.000\n",
       "Pclass         0.000\n",
       "Age            0.000\n",
       "SibSp          0.000\n",
       "Parch          0.000\n",
       "Fare           0.000\n",
       "dtype: float64"
      ]
     },
     "execution_count": 24,
     "metadata": {},
     "output_type": "execute_result"
    }
   ],
   "source": [
    "(num_col.isnull().sum()/len(num_col))*100"
   ]
  },
  {
   "cell_type": "code",
   "execution_count": 9,
   "id": "5c914d58",
   "metadata": {},
   "outputs": [],
   "source": [
    "from sklearn.impute import KNNImputer"
   ]
  },
  {
   "cell_type": "code",
   "execution_count": 10,
   "id": "1c11aa14",
   "metadata": {},
   "outputs": [],
   "source": [
    "## for KNN imputer , it is must to retain column names as below, remember this\n",
    "model=KNNImputer(n_neighbors=3)\n",
    "\n",
    "num_col=pd.DataFrame(model.fit_transform(num_col),columns=num_col.columns)"
   ]
  },
  {
   "cell_type": "code",
   "execution_count": 11,
   "id": "55199953",
   "metadata": {},
   "outputs": [
    {
     "data": {
      "text/plain": [
       "PassengerId    0\n",
       "Survived       0\n",
       "Pclass         0\n",
       "Age            0\n",
       "SibSp          0\n",
       "Parch          0\n",
       "Fare           0\n",
       "dtype: int64"
      ]
     },
     "execution_count": 11,
     "metadata": {},
     "output_type": "execute_result"
    }
   ],
   "source": [
    "num_col.isnull().sum()"
   ]
  },
  {
   "cell_type": "code",
   "execution_count": 15,
   "id": "e3c535a0",
   "metadata": {},
   "outputs": [
    {
     "data": {
      "text/plain": [
       "Name         0.000\n",
       "Sex          0.000\n",
       "Ticket       0.000\n",
       "Cabin       77.104\n",
       "Embarked     0.224\n",
       "dtype: float64"
      ]
     },
     "execution_count": 15,
     "metadata": {},
     "output_type": "execute_result"
    }
   ],
   "source": [
    "(cat_col.isnull().sum()/len(cat_col))*100"
   ]
  },
  {
   "cell_type": "markdown",
   "id": "8bef0775",
   "metadata": {},
   "source": [
    "### KNN imputer is not working for cat_cols\n",
    "model=KNNImputer(n_neighbors=3)\n",
    "\n",
    "cat_col=pd.DataFrame(model.fit_transform(cat_col),columns=cat_col.columns)"
   ]
  },
  {
   "cell_type": "code",
   "execution_count": 13,
   "id": "eed4ba0e",
   "metadata": {},
   "outputs": [
    {
     "data": {
      "text/plain": [
       "Index(['Name', 'Sex', 'Ticket', 'Cabin', 'Embarked'], dtype='object')"
      ]
     },
     "execution_count": 13,
     "metadata": {},
     "output_type": "execute_result"
    }
   ],
   "source": [
    "cat_col.columns"
   ]
  },
  {
   "cell_type": "code",
   "execution_count": 16,
   "id": "0843dd13",
   "metadata": {},
   "outputs": [
    {
     "data": {
      "text/plain": [
       "Cabin\n",
       "B96 B98        4\n",
       "G6             4\n",
       "C23 C25 C27    4\n",
       "C22 C26        3\n",
       "F33            3\n",
       "              ..\n",
       "E34            1\n",
       "C7             1\n",
       "C54            1\n",
       "E36            1\n",
       "C148           1\n",
       "Name: count, Length: 147, dtype: int64"
      ]
     },
     "execution_count": 16,
     "metadata": {},
     "output_type": "execute_result"
    }
   ],
   "source": [
    "cat_col[\"Cabin\"].value_counts()"
   ]
  },
  {
   "cell_type": "code",
   "execution_count": 20,
   "id": "6c1ae3c6",
   "metadata": {},
   "outputs": [],
   "source": [
    "cat_col[\"Cabin\"]=cat_col[\"Cabin\"].fillna(\"No_info\")\n",
    "cat_col.drop(\"Cabin\",axis=1,inplace=True)"
   ]
  },
  {
   "cell_type": "markdown",
   "id": "c9eb00e9",
   "metadata": {},
   "source": [
    "cat_col[\"Cabin\"]=cat_col[\"Cabin\"].fillna(cat_col[\"Cabin\"].mode())"
   ]
  },
  {
   "cell_type": "code",
   "execution_count": 21,
   "id": "86cfc0e5",
   "metadata": {},
   "outputs": [],
   "source": [
    "cat_col[\"Embarked\"]=cat_col[\"Embarked\"].dropna()"
   ]
  },
  {
   "cell_type": "code",
   "execution_count": 28,
   "id": "b6f68d67",
   "metadata": {},
   "outputs": [
    {
     "data": {
      "text/plain": [
       "Index(['Sex', 'Embarked'], dtype='object')"
      ]
     },
     "execution_count": 28,
     "metadata": {},
     "output_type": "execute_result"
    }
   ],
   "source": [
    "cat_col.columns"
   ]
  },
  {
   "cell_type": "code",
   "execution_count": 25,
   "id": "ff43f287",
   "metadata": {},
   "outputs": [],
   "source": [
    "from sklearn.preprocessing import LabelEncoder\n",
    "enc=LabelEncoder()"
   ]
  },
  {
   "cell_type": "code",
   "execution_count": 27,
   "id": "476d6ec2",
   "metadata": {},
   "outputs": [],
   "source": [
    "cat_col=cat_col.drop([\"Name\",\"Ticket\"],axis=1)"
   ]
  },
  {
   "cell_type": "code",
   "execution_count": 31,
   "id": "a7f3d9db",
   "metadata": {},
   "outputs": [],
   "source": [
    "cat_col=cat_col.apply(enc.fit_transform)"
   ]
  },
  {
   "cell_type": "markdown",
   "id": "5b848b45",
   "metadata": {},
   "source": [
    "cat_col[\"Sex\"]=enc.fit_transform(cat_col[\"Sex\"])\n",
    "#cat_col[\"Cabin\"]=enc.fit_transform(cat_col[\"Cabin\"])\n",
    "cat_col[\"Embarked\"]=enc.fit_transform(cat_col[\"Embarked\"])"
   ]
  },
  {
   "cell_type": "code",
   "execution_count": 32,
   "id": "58b40e80",
   "metadata": {},
   "outputs": [
    {
     "data": {
      "text/plain": [
       "Sex         int32\n",
       "Embarked    int32\n",
       "dtype: object"
      ]
     },
     "execution_count": 32,
     "metadata": {},
     "output_type": "execute_result"
    }
   ],
   "source": [
    "cat_col.dtypes"
   ]
  },
  {
   "cell_type": "code",
   "execution_count": null,
   "id": "c5f9878c",
   "metadata": {},
   "outputs": [],
   "source": []
  },
  {
   "cell_type": "code",
   "execution_count": 33,
   "id": "5e6c9f57",
   "metadata": {},
   "outputs": [],
   "source": [
    "\n",
    "data=pd.concat((num_col,cat_col),axis=1)"
   ]
  },
  {
   "cell_type": "code",
   "execution_count": 34,
   "id": "5b13d85f",
   "metadata": {},
   "outputs": [],
   "source": [
    "data=data.dropna()"
   ]
  },
  {
   "cell_type": "code",
   "execution_count": 35,
   "id": "dcfd6ce0",
   "metadata": {},
   "outputs": [
    {
     "data": {
      "text/plain": [
       "PassengerId    0\n",
       "Survived       0\n",
       "Pclass         0\n",
       "Age            0\n",
       "SibSp          0\n",
       "Parch          0\n",
       "Fare           0\n",
       "Sex            0\n",
       "Embarked       0\n",
       "dtype: int64"
      ]
     },
     "execution_count": 35,
     "metadata": {},
     "output_type": "execute_result"
    }
   ],
   "source": [
    "data.isnull().sum()"
   ]
  },
  {
   "cell_type": "code",
   "execution_count": 36,
   "id": "46f5877d",
   "metadata": {},
   "outputs": [
    {
     "name": "stdout",
     "output_type": "stream",
     "text": [
      "<class 'pandas.core.frame.DataFrame'>\n",
      "RangeIndex: 891 entries, 0 to 890\n",
      "Data columns (total 9 columns):\n",
      " #   Column       Non-Null Count  Dtype  \n",
      "---  ------       --------------  -----  \n",
      " 0   PassengerId  891 non-null    float64\n",
      " 1   Survived     891 non-null    float64\n",
      " 2   Pclass       891 non-null    float64\n",
      " 3   Age          891 non-null    float64\n",
      " 4   SibSp        891 non-null    float64\n",
      " 5   Parch        891 non-null    float64\n",
      " 6   Fare         891 non-null    float64\n",
      " 7   Sex          891 non-null    int32  \n",
      " 8   Embarked     891 non-null    int32  \n",
      "dtypes: float64(7), int32(2)\n",
      "memory usage: 55.8 KB\n"
     ]
    }
   ],
   "source": [
    "data.info()"
   ]
  },
  {
   "cell_type": "code",
   "execution_count": 37,
   "id": "7f3a7697",
   "metadata": {},
   "outputs": [],
   "source": [
    "x=data.drop(\"Survived\",axis=1)\n",
    "y=data[\"Survived\"]"
   ]
  },
  {
   "cell_type": "code",
   "execution_count": 39,
   "id": "dfc03cb9",
   "metadata": {},
   "outputs": [],
   "source": [
    "from sklearn.model_selection import train_test_split,KFold,cross_val_score,RandomizedSearchCV"
   ]
  },
  {
   "cell_type": "code",
   "execution_count": 40,
   "id": "cb8b18ba",
   "metadata": {},
   "outputs": [],
   "source": [
    "x_train,x_test,y_train,y_test=train_test_split(x,y,train_size=0.8,random_state=42)"
   ]
  },
  {
   "cell_type": "code",
   "execution_count": 41,
   "id": "f19e9634",
   "metadata": {},
   "outputs": [
    {
     "data": {
      "text/plain": [
       "(712, 8)"
      ]
     },
     "execution_count": 41,
     "metadata": {},
     "output_type": "execute_result"
    }
   ],
   "source": [
    "x_train.shape"
   ]
  },
  {
   "cell_type": "code",
   "execution_count": 42,
   "id": "a811d6ed",
   "metadata": {},
   "outputs": [],
   "source": [
    "from sklearn.linear_model import LogisticRegression"
   ]
  },
  {
   "cell_type": "code",
   "execution_count": 56,
   "id": "f3fd6ed1",
   "metadata": {},
   "outputs": [],
   "source": [
    "from sklearn.tree import DecisionTreeClassifier\n",
    "from sklearn.ensemble import RandomForestClassifier,GradientBoostingClassifier\n",
    "from sklearn.svm import SVC\n",
    "from sklearn.neighbors import KNeighborsClassifier\n",
    "from sklearn.naive_bayes import GaussianNB"
   ]
  },
  {
   "cell_type": "code",
   "execution_count": 65,
   "id": "bee95f14",
   "metadata": {},
   "outputs": [],
   "source": [
    "lis=[LogisticRegression,DecisionTreeClassifier,RandomForestClassifier,GradientBoostingClassifier,KNeighborsClassifier,GaussianNB]\n",
    "from sklearn.metrics import roc_curve,roc_auc_score"
   ]
  },
  {
   "cell_type": "code",
   "execution_count": 67,
   "id": "15a893b9",
   "metadata": {},
   "outputs": [
    {
     "name": "stdout",
     "output_type": "stream",
     "text": [
      "LogisticRegression\n",
      "Train_accuracy:--->0.7949438202247191\n",
      "Test_accuracy:--->0.7821229050279329\n",
      "Auc score:--->0.8346203346203346\n",
      "\n",
      "\n",
      "DecisionTreeClassifier\n",
      "Train_accuracy:--->1.0\n",
      "Test_accuracy:--->0.7039106145251397\n",
      "Auc score:--->0.6997425997425997\n",
      "\n",
      "\n",
      "RandomForestClassifier\n",
      "Train_accuracy:--->1.0\n",
      "Test_accuracy:--->0.8100558659217877\n",
      "Auc score:--->0.8877091377091377\n",
      "\n",
      "\n",
      "GradientBoostingClassifier\n",
      "Train_accuracy:--->0.9030898876404494\n",
      "Test_accuracy:--->0.8212290502793296\n",
      "Auc score:--->0.8652509652509653\n",
      "\n",
      "\n",
      "KNeighborsClassifier\n",
      "Train_accuracy:--->0.7443820224719101\n",
      "Test_accuracy:--->0.6759776536312849\n",
      "Auc score:--->0.6521235521235521\n",
      "\n",
      "\n",
      "GaussianNB\n",
      "Train_accuracy:--->0.7991573033707865\n",
      "Test_accuracy:--->0.776536312849162\n",
      "Auc score:--->0.8501930501930501\n",
      "\n",
      "\n"
     ]
    }
   ],
   "source": [
    "for model_class in lis:\n",
    "    model=model_class()\n",
    "    name=model_class.__name__\n",
    "    print(name)\n",
    "    \n",
    "    model.fit(x_train,y_train)\n",
    "    \n",
    "    y_pred=model.predict(x_test)\n",
    "    y_pred_proba=model.predict_proba(x_test)[::,1]\n",
    "    \n",
    "    train_acc=model.score(x_train,y_train)\n",
    "    print(f\"Train_accuracy:--->{train_acc}\")\n",
    "    \n",
    "    test_acc=model.score(x_test,y_test)\n",
    "    print(f\"Test_accuracy:--->{test_acc}\")\n",
    "    \n",
    "    fpr,tpr,threshold=roc_curve(y_test,y_pred_proba)\n",
    "    auc=roc_auc_score(y_test,y_pred_proba)\n",
    "    print(f\"Auc score:--->{auc}\")\n",
    "    print(\"\\n\")"
   ]
  },
  {
   "cell_type": "code",
   "execution_count": null,
   "id": "3ac83530",
   "metadata": {},
   "outputs": [],
   "source": []
  },
  {
   "cell_type": "code",
   "execution_count": null,
   "id": "137582d7",
   "metadata": {},
   "outputs": [],
   "source": []
  },
  {
   "cell_type": "code",
   "execution_count": 43,
   "id": "96cedc30",
   "metadata": {},
   "outputs": [
    {
     "data": {
      "text/html": [
       "<style>#sk-container-id-1 {color: black;background-color: white;}#sk-container-id-1 pre{padding: 0;}#sk-container-id-1 div.sk-toggleable {background-color: white;}#sk-container-id-1 label.sk-toggleable__label {cursor: pointer;display: block;width: 100%;margin-bottom: 0;padding: 0.3em;box-sizing: border-box;text-align: center;}#sk-container-id-1 label.sk-toggleable__label-arrow:before {content: \"▸\";float: left;margin-right: 0.25em;color: #696969;}#sk-container-id-1 label.sk-toggleable__label-arrow:hover:before {color: black;}#sk-container-id-1 div.sk-estimator:hover label.sk-toggleable__label-arrow:before {color: black;}#sk-container-id-1 div.sk-toggleable__content {max-height: 0;max-width: 0;overflow: hidden;text-align: left;background-color: #f0f8ff;}#sk-container-id-1 div.sk-toggleable__content pre {margin: 0.2em;color: black;border-radius: 0.25em;background-color: #f0f8ff;}#sk-container-id-1 input.sk-toggleable__control:checked~div.sk-toggleable__content {max-height: 200px;max-width: 100%;overflow: auto;}#sk-container-id-1 input.sk-toggleable__control:checked~label.sk-toggleable__label-arrow:before {content: \"▾\";}#sk-container-id-1 div.sk-estimator input.sk-toggleable__control:checked~label.sk-toggleable__label {background-color: #d4ebff;}#sk-container-id-1 div.sk-label input.sk-toggleable__control:checked~label.sk-toggleable__label {background-color: #d4ebff;}#sk-container-id-1 input.sk-hidden--visually {border: 0;clip: rect(1px 1px 1px 1px);clip: rect(1px, 1px, 1px, 1px);height: 1px;margin: -1px;overflow: hidden;padding: 0;position: absolute;width: 1px;}#sk-container-id-1 div.sk-estimator {font-family: monospace;background-color: #f0f8ff;border: 1px dotted black;border-radius: 0.25em;box-sizing: border-box;margin-bottom: 0.5em;}#sk-container-id-1 div.sk-estimator:hover {background-color: #d4ebff;}#sk-container-id-1 div.sk-parallel-item::after {content: \"\";width: 100%;border-bottom: 1px solid gray;flex-grow: 1;}#sk-container-id-1 div.sk-label:hover label.sk-toggleable__label {background-color: #d4ebff;}#sk-container-id-1 div.sk-serial::before {content: \"\";position: absolute;border-left: 1px solid gray;box-sizing: border-box;top: 0;bottom: 0;left: 50%;z-index: 0;}#sk-container-id-1 div.sk-serial {display: flex;flex-direction: column;align-items: center;background-color: white;padding-right: 0.2em;padding-left: 0.2em;position: relative;}#sk-container-id-1 div.sk-item {position: relative;z-index: 1;}#sk-container-id-1 div.sk-parallel {display: flex;align-items: stretch;justify-content: center;background-color: white;position: relative;}#sk-container-id-1 div.sk-item::before, #sk-container-id-1 div.sk-parallel-item::before {content: \"\";position: absolute;border-left: 1px solid gray;box-sizing: border-box;top: 0;bottom: 0;left: 50%;z-index: -1;}#sk-container-id-1 div.sk-parallel-item {display: flex;flex-direction: column;z-index: 1;position: relative;background-color: white;}#sk-container-id-1 div.sk-parallel-item:first-child::after {align-self: flex-end;width: 50%;}#sk-container-id-1 div.sk-parallel-item:last-child::after {align-self: flex-start;width: 50%;}#sk-container-id-1 div.sk-parallel-item:only-child::after {width: 0;}#sk-container-id-1 div.sk-dashed-wrapped {border: 1px dashed gray;margin: 0 0.4em 0.5em 0.4em;box-sizing: border-box;padding-bottom: 0.4em;background-color: white;}#sk-container-id-1 div.sk-label label {font-family: monospace;font-weight: bold;display: inline-block;line-height: 1.2em;}#sk-container-id-1 div.sk-label-container {text-align: center;}#sk-container-id-1 div.sk-container {/* jupyter's `normalize.less` sets `[hidden] { display: none; }` but bootstrap.min.css set `[hidden] { display: none !important; }` so we also need the `!important` here to be able to override the default hidden behavior on the sphinx rendered scikit-learn.org. See: https://github.com/scikit-learn/scikit-learn/issues/21755 */display: inline-block !important;position: relative;}#sk-container-id-1 div.sk-text-repr-fallback {display: none;}</style><div id=\"sk-container-id-1\" class=\"sk-top-container\"><div class=\"sk-text-repr-fallback\"><pre>LogisticRegression()</pre><b>In a Jupyter environment, please rerun this cell to show the HTML representation or trust the notebook. <br />On GitHub, the HTML representation is unable to render, please try loading this page with nbviewer.org.</b></div><div class=\"sk-container\" hidden><div class=\"sk-item\"><div class=\"sk-estimator sk-toggleable\"><input class=\"sk-toggleable__control sk-hidden--visually\" id=\"sk-estimator-id-1\" type=\"checkbox\" checked><label for=\"sk-estimator-id-1\" class=\"sk-toggleable__label sk-toggleable__label-arrow\">LogisticRegression</label><div class=\"sk-toggleable__content\"><pre>LogisticRegression()</pre></div></div></div></div></div>"
      ],
      "text/plain": [
       "LogisticRegression()"
      ]
     },
     "execution_count": 43,
     "metadata": {},
     "output_type": "execute_result"
    }
   ],
   "source": [
    "model=LogisticRegression()\n",
    "model.fit(x_train,y_train)"
   ]
  },
  {
   "cell_type": "code",
   "execution_count": 44,
   "id": "f201499b",
   "metadata": {},
   "outputs": [
    {
     "data": {
      "text/plain": [
       "0.7949438202247191"
      ]
     },
     "execution_count": 44,
     "metadata": {},
     "output_type": "execute_result"
    }
   ],
   "source": [
    "model.score(x_train,y_train)"
   ]
  },
  {
   "cell_type": "code",
   "execution_count": 45,
   "id": "51e0a90b",
   "metadata": {},
   "outputs": [
    {
     "data": {
      "text/plain": [
       "0.7821229050279329"
      ]
     },
     "execution_count": 45,
     "metadata": {},
     "output_type": "execute_result"
    }
   ],
   "source": [
    "model.score(x_test,y_test)"
   ]
  },
  {
   "cell_type": "code",
   "execution_count": 46,
   "id": "25a24472",
   "metadata": {},
   "outputs": [],
   "source": [
    "y_pred=model.predict(x_test)"
   ]
  },
  {
   "cell_type": "code",
   "execution_count": 47,
   "id": "aa990a6f",
   "metadata": {},
   "outputs": [],
   "source": [
    "from sklearn.metrics import recall_score,precision_score,confusion_matrix,classification_report,f1_score"
   ]
  },
  {
   "cell_type": "code",
   "execution_count": 48,
   "id": "f51da3a4",
   "metadata": {},
   "outputs": [
    {
     "data": {
      "text/plain": [
       "array([[89, 16],\n",
       "       [23, 51]], dtype=int64)"
      ]
     },
     "execution_count": 48,
     "metadata": {},
     "output_type": "execute_result"
    }
   ],
   "source": [
    "confusion_matrix(y_test,y_pred)"
   ]
  },
  {
   "cell_type": "code",
   "execution_count": 49,
   "id": "b1705e94",
   "metadata": {},
   "outputs": [
    {
     "name": "stdout",
     "output_type": "stream",
     "text": [
      "              precision    recall  f1-score   support\n",
      "\n",
      "         0.0       0.79      0.85      0.82       105\n",
      "         1.0       0.76      0.69      0.72        74\n",
      "\n",
      "    accuracy                           0.78       179\n",
      "   macro avg       0.78      0.77      0.77       179\n",
      "weighted avg       0.78      0.78      0.78       179\n",
      "\n"
     ]
    }
   ],
   "source": [
    "print(classification_report(y_test,y_pred))"
   ]
  },
  {
   "cell_type": "code",
   "execution_count": 50,
   "id": "613facf4",
   "metadata": {},
   "outputs": [
    {
     "data": {
      "text/plain": [
       "0.6891891891891891"
      ]
     },
     "execution_count": 50,
     "metadata": {},
     "output_type": "execute_result"
    }
   ],
   "source": [
    "recall_score(y_test,y_pred)"
   ]
  },
  {
   "cell_type": "code",
   "execution_count": 51,
   "id": "a45db827",
   "metadata": {},
   "outputs": [
    {
     "data": {
      "text/plain": [
       "0.7611940298507462"
      ]
     },
     "execution_count": 51,
     "metadata": {},
     "output_type": "execute_result"
    }
   ],
   "source": [
    "precision_score(y_test,y_pred)"
   ]
  },
  {
   "cell_type": "code",
   "execution_count": 52,
   "id": "31da7021",
   "metadata": {},
   "outputs": [
    {
     "data": {
      "text/plain": [
       "0.7234042553191488"
      ]
     },
     "execution_count": 52,
     "metadata": {},
     "output_type": "execute_result"
    }
   ],
   "source": [
    "f1_score(y_test,y_pred)"
   ]
  },
  {
   "cell_type": "code",
   "execution_count": 53,
   "id": "a8d0329f",
   "metadata": {},
   "outputs": [],
   "source": [
    "y_prob=model.predict_proba(x_test)"
   ]
  },
  {
   "cell_type": "code",
   "execution_count": 54,
   "id": "a3949c18",
   "metadata": {},
   "outputs": [
    {
     "data": {
      "text/plain": [
       "array([[0.87243933, 0.12756067],\n",
       "       [0.82103157, 0.17896843],\n",
       "       [0.78414245, 0.21585755],\n",
       "       [0.20675027, 0.79324973],\n",
       "       [0.44928732, 0.55071268],\n",
       "       [0.13158653, 0.86841347],\n",
       "       [0.35273346, 0.64726654],\n",
       "       [0.88950125, 0.11049875],\n",
       "       [0.36775774, 0.63224226],\n",
       "       [0.3772362 , 0.6227638 ],\n",
       "       [0.79128868, 0.20871132],\n",
       "       [0.82238527, 0.17761473],\n",
       "       [0.49371864, 0.50628136],\n",
       "       [0.8783942 , 0.1216058 ],\n",
       "       [0.83346126, 0.16653874],\n",
       "       [0.15184137, 0.84815863],\n",
       "       [0.70154518, 0.29845482],\n",
       "       [0.27121831, 0.72878169],\n",
       "       [0.73303251, 0.26696749],\n",
       "       [0.77009128, 0.22990872],\n",
       "       [0.86705949, 0.13294051],\n",
       "       [0.75556716, 0.24443284],\n",
       "       [0.42102599, 0.57897401],\n",
       "       [0.80818104, 0.19181896],\n",
       "       [0.82269012, 0.17730988],\n",
       "       [0.90229405, 0.09770595],\n",
       "       [0.83060447, 0.16939553],\n",
       "       [0.77691678, 0.22308322],\n",
       "       [0.95200877, 0.04799123],\n",
       "       [0.33418186, 0.66581814],\n",
       "       [0.77692748, 0.22307252],\n",
       "       [0.38758656, 0.61241344],\n",
       "       [0.66718148, 0.33281852],\n",
       "       [0.3670046 , 0.6329954 ],\n",
       "       [0.87474213, 0.12525787],\n",
       "       [0.84386566, 0.15613434],\n",
       "       [0.80748969, 0.19251031],\n",
       "       [0.38740234, 0.61259766],\n",
       "       [0.13902355, 0.86097645],\n",
       "       [0.80500035, 0.19499965],\n",
       "       [0.80689585, 0.19310415],\n",
       "       [0.87213183, 0.12786817],\n",
       "       [0.78418294, 0.21581706],\n",
       "       [0.79636849, 0.20363151],\n",
       "       [0.40836226, 0.59163774],\n",
       "       [0.94333123, 0.05666877],\n",
       "       [0.88982176, 0.11017824],\n",
       "       [0.85767252, 0.14232748],\n",
       "       [0.87798365, 0.12201635],\n",
       "       [0.62480266, 0.37519734],\n",
       "       [0.43347638, 0.56652362],\n",
       "       [0.11670788, 0.88329212],\n",
       "       [0.95240907, 0.04759093],\n",
       "       [0.56924078, 0.43075922],\n",
       "       [0.88709088, 0.11290912],\n",
       "       [0.1613204 , 0.8386796 ],\n",
       "       [0.87123696, 0.12876304],\n",
       "       [0.02597169, 0.97402831],\n",
       "       [0.30105093, 0.69894907],\n",
       "       [0.41077599, 0.58922401],\n",
       "       [0.85146436, 0.14853564],\n",
       "       [0.29718093, 0.70281907],\n",
       "       [0.27848766, 0.72151234],\n",
       "       [0.79734519, 0.20265481],\n",
       "       [0.88188609, 0.11811391],\n",
       "       [0.23004916, 0.76995084],\n",
       "       [0.74454043, 0.25545957],\n",
       "       [0.85341439, 0.14658561],\n",
       "       [0.89330972, 0.10669028],\n",
       "       [0.13373245, 0.86626755],\n",
       "       [0.36651709, 0.63348291],\n",
       "       [0.03746264, 0.96253736],\n",
       "       [0.6481062 , 0.3518938 ],\n",
       "       [0.12545313, 0.87454687],\n",
       "       [0.78750075, 0.21249925],\n",
       "       [0.84636346, 0.15363654],\n",
       "       [0.25583331, 0.74416669],\n",
       "       [0.23408391, 0.76591609],\n",
       "       [0.29286152, 0.70713848],\n",
       "       [0.48228973, 0.51771027],\n",
       "       [0.92990399, 0.07009601],\n",
       "       [0.35851267, 0.64148733],\n",
       "       [0.11410485, 0.88589515],\n",
       "       [0.79160068, 0.20839932],\n",
       "       [0.81227952, 0.18772048],\n",
       "       [0.72175837, 0.27824163],\n",
       "       [0.11903368, 0.88096632],\n",
       "       [0.16856531, 0.83143469],\n",
       "       [0.74822682, 0.25177318],\n",
       "       [0.87489226, 0.12510774],\n",
       "       [0.91518699, 0.08481301],\n",
       "       [0.54615301, 0.45384699],\n",
       "       [0.72627615, 0.27372385],\n",
       "       [0.85575471, 0.14424529],\n",
       "       [0.89164828, 0.10835172],\n",
       "       [0.87045247, 0.12954753],\n",
       "       [0.68790348, 0.31209652],\n",
       "       [0.87098692, 0.12901308],\n",
       "       [0.29773783, 0.70226217],\n",
       "       [0.86515939, 0.13484061],\n",
       "       [0.75968154, 0.24031846],\n",
       "       [0.8347279 , 0.1652721 ],\n",
       "       [0.13621624, 0.86378376],\n",
       "       [0.85352623, 0.14647377],\n",
       "       [0.79521596, 0.20478404],\n",
       "       [0.8734176 , 0.1265824 ],\n",
       "       [0.26308981, 0.73691019],\n",
       "       [0.73354287, 0.26645713],\n",
       "       [0.86838706, 0.13161294],\n",
       "       [0.79605712, 0.20394288],\n",
       "       [0.15574747, 0.84425253],\n",
       "       [0.87429718, 0.12570282],\n",
       "       [0.09293316, 0.90706684],\n",
       "       [0.74496372, 0.25503628],\n",
       "       [0.19949078, 0.80050922],\n",
       "       [0.77349338, 0.22650662],\n",
       "       [0.82562438, 0.17437562],\n",
       "       [0.84344961, 0.15655039],\n",
       "       [0.35153702, 0.64846298],\n",
       "       [0.44370727, 0.55629273],\n",
       "       [0.88988874, 0.11011126],\n",
       "       [0.14955635, 0.85044365],\n",
       "       [0.180956  , 0.819044  ],\n",
       "       [0.89425236, 0.10574764],\n",
       "       [0.798259  , 0.201741  ],\n",
       "       [0.72844666, 0.27155334],\n",
       "       [0.16046039, 0.83953961],\n",
       "       [0.68185025, 0.31814975],\n",
       "       [0.32083447, 0.67916553],\n",
       "       [0.83929638, 0.16070362],\n",
       "       [0.34713979, 0.65286021],\n",
       "       [0.92745979, 0.07254021],\n",
       "       [0.83518934, 0.16481066],\n",
       "       [0.22323803, 0.77676197],\n",
       "       [0.70426011, 0.29573989],\n",
       "       [0.25638211, 0.74361789],\n",
       "       [0.09165574, 0.90834426],\n",
       "       [0.87675038, 0.12324962],\n",
       "       [0.79830767, 0.20169233],\n",
       "       [0.42574368, 0.57425632],\n",
       "       [0.81509224, 0.18490776],\n",
       "       [0.20826363, 0.79173637],\n",
       "       [0.82935766, 0.17064234],\n",
       "       [0.80128551, 0.19871449],\n",
       "       [0.51027183, 0.48972817],\n",
       "       [0.33037834, 0.66962166],\n",
       "       [0.84856622, 0.15143378],\n",
       "       [0.88931878, 0.11068122],\n",
       "       [0.10042556, 0.89957444],\n",
       "       [0.82604617, 0.17395383],\n",
       "       [0.83240223, 0.16759777],\n",
       "       [0.83901604, 0.16098396],\n",
       "       [0.80879818, 0.19120182],\n",
       "       [0.40072972, 0.59927028],\n",
       "       [0.89135876, 0.10864124],\n",
       "       [0.83254838, 0.16745162],\n",
       "       [0.72113808, 0.27886192],\n",
       "       [0.40496073, 0.59503927],\n",
       "       [0.26570589, 0.73429411],\n",
       "       [0.36672395, 0.63327605],\n",
       "       [0.869616  , 0.130384  ],\n",
       "       [0.74258478, 0.25741522],\n",
       "       [0.7573892 , 0.2426108 ],\n",
       "       [0.1463977 , 0.8536023 ],\n",
       "       [0.90018264, 0.09981736],\n",
       "       [0.8210213 , 0.1789787 ],\n",
       "       [0.8226974 , 0.1773026 ],\n",
       "       [0.1943893 , 0.8056107 ],\n",
       "       [0.83626918, 0.16373082],\n",
       "       [0.86495856, 0.13504144],\n",
       "       [0.78522112, 0.21477888],\n",
       "       [0.39295585, 0.60704415],\n",
       "       [0.73265148, 0.26734852],\n",
       "       [0.30416527, 0.69583473],\n",
       "       [0.84717494, 0.15282506],\n",
       "       [0.81290121, 0.18709879],\n",
       "       [0.75049015, 0.24950985],\n",
       "       [0.34352305, 0.65647695],\n",
       "       [0.49855943, 0.50144057]])"
      ]
     },
     "execution_count": 54,
     "metadata": {},
     "output_type": "execute_result"
    }
   ],
   "source": [
    "y_prob"
   ]
  },
  {
   "cell_type": "code",
   "execution_count": 73,
   "id": "d6de7491",
   "metadata": {},
   "outputs": [],
   "source": [
    "from sklearn.metrics import roc_curve,roc_auc_score\n",
    "import matplotlib.pyplot as plt\n",
    "%matplotlib inline"
   ]
  },
  {
   "cell_type": "code",
   "execution_count": 74,
   "id": "68972cd2",
   "metadata": {},
   "outputs": [
    {
     "data": {
      "image/png": "[encoded data removed]",
      "text/plain": [
       "<Figure size 640x480 with 1 Axes>"
      ]
     },
     "metadata": {},
     "output_type": "display_data"
    }
   ],
   "source": [
    "y_pred_proba =model.predict_proba(x_test)[::,1]\n",
    "fpr, tpr, threshold = roc_curve(y_test,  y_pred_proba)\n",
    "auc = roc_auc_score(y_test, y_pred_proba)\n",
    "plt.plot(fpr,tpr,label=\"data 1, auc=\" +str(auc))\n",
    "plt.legend(loc=4)\n",
    "plt.xlabel(\"False Positive Rate\")\n",
    "plt.ylabel(\" Positive Rate\")\n",
    "\n",
    "plt.show()"
   ]
  },
  {
   "cell_type": "markdown",
   "id": "a99f7092",
   "metadata": {},
   "source": [
    "1. y_pred_proba = model.predict_proba(x_test)[::,1]\n",
    "model.predict_proba(X_test): This function predicts the probability of each class for the given test data (X_test). For binary classification problems, it returns a 2D array with two columns:\n",
    "First column: Probability of the instance being in class 0.\n",
    "Second column: Probability of the instance being in class 1.\n",
    "[::,1]: This is used to select the second column from the output, which corresponds to the probability of the positive class (class 1). So y_pred_proba contains the predicted probabilities for the positive class for all the test instances.\n",
    "\n",
    "\n",
    "\n",
    "\n",
    "2. fpr, tpr, threshold = roc_curve(y_test, y_pred_proba)\n",
    "roc_curve(y_test, y_pred_proba): This function computes the Receiver Operating Characteristic (ROC) curve. It returns:\n",
    "fpr (False Positive Rate): The rate at which the model incorrectly predicts class 1 (positive class) when it is actually class 0.\n",
    "tpr (True Positive Rate): Also called sensitivity or recall, this is the rate at which the model correctly predicts class 1 when it is actually class 1.\n",
    "threshold: The threshold values used to compute fpr and tpr. As the threshold varies, you get different values of fpr and tpr, which are used to plot the ROC curve.\n",
    "\n",
    "\n",
    "\n",
    "3. auc = roc_auc_score(y_test, y_pred_proba)\n",
    "roc_auc_score(y_test, y_pred_proba): This function computes the Area Under the ROC Curve (AUC), which is a single scalar value representing the model's ability to discriminate between the positive and negative classes. A perfect classifier would have an AUC of 1, while a model that predicts randomly would have an AUC of 0.5.\n",
    "\n",
    "The AUC score summarizes the ROC curve into a single number, where higher values indicate a better model performance.\n",
    "\n",
    "4. plt.plot(fpr, tpr, label=\"data 1, auc=\" + str(auc))\n",
    "plt.plot(fpr, tpr, label=\"data 1, auc=\" + str(auc)): This line plots the ROC curve. The ROC curve is a plot of the True Positive Rate (tpr) against the False Positive Rate (fpr) at various threshold levels. The label includes the AUC score for reference.\n",
    "\n",
    "\n",
    "\n",
    "\n",
    "\n",
    "5. plt.legend(loc=4)\n",
    "plt.legend(loc=4): This adds a legend to the plot, displaying the AUC score. The argument loc=4 places the legend in the lower right corner of the plot.\n",
    "\n",
    "\n",
    "\n",
    "6. plt.xlabel(\"False Positive Rate\")\n",
    "plt.xlabel(\"False Positive Rate\"): This sets the x-axis label to \"False Positive Rate\".\n",
    "\n",
    "\n",
    "\n",
    "7. plt.ylabel(\"Positive Rate\")\n",
    "plt.ylabel(\"Positive Rate\"): This sets the y-axis label to \"Positive Rate\". This should technically be \"True Positive Rate\" or \"Recall\" for better clarity.\n",
    "\n",
    "\n",
    "\n",
    "8. plt.show()\n",
    "plt.show(): This displays the ROC curve plot.\n",
    "\n",
    "\n",
    "\n",
    "\n",
    "\n",
    "Summary of the Code's Purpose:\n",
    "The code first generates the predicted probabilities of the positive class for the test set.\n",
    "Then, it calculates the false positive rate (FPR) and true positive rate (TPR) at various thresholds using the ROC curve.\n",
    "It computes the AUC score to measure the model's performance.\n",
    "Finally, it plots the ROC curve and shows the AUC score on the plot.\n",
    "The ROC curve is a great way to visualize how well the classifier is distinguishing between the positive and negative classes across different thresholds.\n",
    "\n",
    "\n",
    "\n",
    "\n",
    "\n",
    "\n",
    "\n",
    "\n",
    "\n",
    "\n"
   ]
  },
  {
   "cell_type": "code",
   "execution_count": null,
   "id": "7f3669f2",
   "metadata": {},
   "outputs": [],
   "source": []
  }
 ],
 "metadata": {
  "kernelspec": {
   "display_name": "Python 3 (ipykernel)",
   "language": "python",
   "name": "python3"
  },
  "language_info": {
   "codemirror_mode": {
    "name": "ipython",
    "version": 3
   },
   "file_extension": ".py",
   "mimetype": "text/x-python",
   "name": "python",
   "nbconvert_exporter": "python",
   "pygments_lexer": "ipython3",
   "version": "3.11.7"
  }
 },
 "nbformat": 4,
 "nbformat_minor": 5
}
